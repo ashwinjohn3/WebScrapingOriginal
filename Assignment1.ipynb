{
 "cells": [
  {
   "cell_type": "markdown",
   "metadata": {},
   "source": [
    "# Get top Video Games through Gamespot API\n"
   ]
  },
  {
   "cell_type": "markdown",
   "metadata": {},
   "source": [
    "### ABSTRACT\n"
   ]
  },
  {
   "cell_type": "markdown",
   "metadata": {},
   "source": [
    "We are working on a video game ratings dataset and will be extracting video game data from 3 different data sources and then will be munging them together to form a consistent dataset. "
   ]
  },
  {
   "cell_type": "markdown",
   "metadata": {},
   "source": [
    "## Data"
   ]
  },
  {
   "cell_type": "markdown",
   "metadata": {},
   "source": [
    "Data gathered from Gamespot API mentioned below. Data consists of \n",
    "\n",
    "\n",
    "\n",
    "\n",
    "\n",
    "\n"
   ]
  },
  {
   "cell_type": "markdown",
   "metadata": {},
   "source": [
    "## Importing Libraries"
   ]
  },
  {
   "cell_type": "code",
   "execution_count": 2,
   "metadata": {},
   "outputs": [],
   "source": [
    "import requests\n",
    "import pandas as pd\n",
    "import json\n",
    "import os\n",
    "import rawgpy\n",
    "from bs4 import BeautifulSoup\n",
    "import numpy as np"
   ]
  },
  {
   "cell_type": "markdown",
   "metadata": {},
   "source": [
    "### DATA SOURCE 1 : USING API"
   ]
  },
  {
   "cell_type": "markdown",
   "metadata": {},
   "source": [
    "### Importing the dataset using API"
   ]
  },
  {
   "cell_type": "code",
   "execution_count": 3,
   "metadata": {},
   "outputs": [
    {
     "name": "stdout",
     "output_type": "stream",
     "text": [
      "200\n"
     ]
    }
   ],
   "source": [
    "# Fetching the tags from the website\n",
    "url = 'http://www.vgchartz.com/gamedb/games.php?name=&keyword=&console=&region=All&developer=&publisher=&goty_year=&genre=&boxart=Both&banner=Both&ownership=Both&showmultiplat=Yes&results=200&order=Sales&showtotalsales=0&showpublisher=0&showpublisher=1&showvgchartzscore=0&shownasales=0&showdeveloper=0&showcriticscore=0&showpalsales=0&showreleasedate=0&showuserscore=0&showjapansales=0&showlastupdate=0&showothersales=0&showshipped=0'\n",
    "html = requests.get(url, headers = {'User-Agent':'Mozilla/5.0'})\n",
    "print(html.status_code)\n"
   ]
  },
  {
   "cell_type": "code",
   "execution_count": 4,
   "metadata": {},
   "outputs": [
    {
     "name": "stdout",
     "output_type": "stream",
     "text": [
      "Index(['Rank', 'Name', 'Platform', 'Publisher'], dtype='object')\n",
      "     Rank                                    Name Platform  \\\n",
      "0       1                              Wii Sports      Wii   \n",
      "1       2                       Super Mario Bros.      NES   \n",
      "2       3                          Mario Kart Wii      Wii   \n",
      "3       4           PLAYERUNKNOWN'S BATTLEGROUNDS       PC   \n",
      "4       5                               Minecraft       PC   \n",
      "..    ...                                     ...      ...   \n",
      "195   196                 New Super Mario Bros. U     WiiU   \n",
      "196   197                   Red Dead Redemption 2     XOne   \n",
      "197   198                                 Destiny      PS4   \n",
      "198   199                                Tekken 2       PS   \n",
      "199   200  Uncharted: The Nathan Drake Collection      PS4   \n",
      "\n",
      "                       Publisher  \n",
      "0                       Nintendo  \n",
      "1                       Nintendo  \n",
      "2                       Nintendo  \n",
      "3               PUBG Corporation  \n",
      "4                         Mojang  \n",
      "..                           ...  \n",
      "195                     Nintendo  \n",
      "196               Rockstar Games  \n",
      "197                   Activision  \n",
      "198                        Namco  \n",
      "199  Sony Computer Entertainment  \n",
      "\n",
      "[200 rows x 4 columns]\n"
     ]
    }
   ],
   "source": [
    "soup = BeautifulSoup(html.content, 'html.parser')\n",
    "k=[]\n",
    "rank=[]\n",
    "gname=[]\n",
    "publisher=[]\n",
    "platform=[]\n",
    "release_date=[]\n",
    "for tag in soup.find_all('a'):\n",
    "    if tag['href'].startswith('http://www.vgchartz.com/game/'):\n",
    "        k.append(tag.get_text().strip())\n",
    "        data=tag.parent.parent.find_all('td')\n",
    "        if data!=[]:\n",
    "            rank.append(np.int32(data[0].string))\n",
    "            platform.append(data[3].find('img').attrs['alt'].strip(' '))\n",
    "            publisher.append(data[4].string.strip(' '))\n",
    "gname = k[10:]\n",
    "columns = {\n",
    "    'Rank': rank,\n",
    "    'Name':gname,\n",
    "    'Platform':platform,\n",
    "    'Publisher':publisher\n",
    "}\n",
    "df = pd.DataFrame(columns)\n",
    "print(df.columns)\n",
    "df = df[[\n",
    "    'Rank', 'Name', 'Platform',\n",
    "    'Publisher']]\n",
    "df.to_csv(\"vgsales.csv\", sep=\",\", encoding='utf-8', index=False)\n",
    "\n",
    "#df.drop_duplicates(subset =\"Name\",keep = False, inplace = True)\n",
    "print (df)"
   ]
  },
  {
   "cell_type": "code",
   "execution_count": 8,
   "metadata": {},
   "outputs": [
    {
     "ename": "SyntaxError",
     "evalue": "invalid syntax (<ipython-input-8-8d02a0e99f39>, line 11)",
     "output_type": "error",
     "traceback": [
      "\u001b[0;36m  File \u001b[0;32m\"<ipython-input-8-8d02a0e99f39>\"\u001b[0;36m, line \u001b[0;32m11\u001b[0m\n\u001b[0;31m    rawgpy.\u001b[0m\n\u001b[0m           ^\u001b[0m\n\u001b[0;31mSyntaxError\u001b[0m\u001b[0;31m:\u001b[0m invalid syntax\n"
     ]
    }
   ],
   "source": [
    "import rawgpy\n",
    "import json\n",
    "rawg_ratings = []\n",
    "genre = []\n",
    "rawg = rawgpy.RAWG(\"User-Agent, this should identify your app\")\n",
    "for name in gname:\n",
    "    results = rawgpy.search(name)  # defaults to returning the top 5 results\n",
    "    game = results[0]\n",
    "    game.populate()\n",
    "    rawg_ratings.append(game.rating)\n",
    "    rawgpy.\n",
    "print (len(rawg_ratings))"
   ]
  },
  {
   "cell_type": "code",
   "execution_count": 7,
   "metadata": {},
   "outputs": [
    {
     "ename": "NameError",
     "evalue": "name 'rawg_ratings' is not defined",
     "output_type": "error",
     "traceback": [
      "\u001b[0;31m---------------------------------------------------------------------------\u001b[0m",
      "\u001b[0;31mNameError\u001b[0m                                 Traceback (most recent call last)",
      "\u001b[0;32m<ipython-input-7-2cd51178a174>\u001b[0m in \u001b[0;36m<module>\u001b[0;34m\u001b[0m\n\u001b[0;32m----> 1\u001b[0;31m \u001b[0mdf\u001b[0m\u001b[0;34m[\u001b[0m\u001b[0;34m'RAWG Ratings'\u001b[0m\u001b[0;34m]\u001b[0m\u001b[0;34m=\u001b[0m\u001b[0mrawg_ratings\u001b[0m\u001b[0;34m\u001b[0m\u001b[0;34m\u001b[0m\u001b[0m\n\u001b[0m\u001b[1;32m      2\u001b[0m \u001b[0mdf\u001b[0m\u001b[0;34m\u001b[0m\u001b[0;34m\u001b[0m\u001b[0m\n",
      "\u001b[0;31mNameError\u001b[0m: name 'rawg_ratings' is not defined"
     ]
    }
   ],
   "source": [
    "df['RAWG Ratings']=rawg_ratings\n",
    "df"
   ]
  },
  {
   "cell_type": "code",
   "execution_count": null,
   "metadata": {},
   "outputs": [],
   "source": [
    "print(df.isnull().any())\n",
    "print(df.columns)\n",
    "dframe = pd.read_csv('vgsales2019.csv')\n",
    "dframe.drop(['Rank','ESRB_Rating','Platform','Publisher','Developer','User_Score', 'Total_Shipped', 'Global_Sales', 'NA_Sales', 'PAL_Sales', 'JP_Sales', 'Other_Sales'], axis=1, inplace= True)"
   ]
  },
  {
   "cell_type": "code",
   "execution_count": null,
   "metadata": {},
   "outputs": [],
   "source": [
    "print (dframe.isna().sum())\n",
    "dframe.dropna(axis=0, how='any', thresh=None, subset=None, inplace=True)\n",
    "dframe.head(100)\n",
    "print(dframe.columns)"
   ]
  },
  {
   "cell_type": "code",
   "execution_count": null,
   "metadata": {},
   "outputs": [],
   "source": [
    "# Merging the two dataframe df and dframe having unique names\n",
    "result = pd.merge(df,dframe, \n",
    "                 on = 'Name')"
   ]
  },
  {
   "cell_type": "code",
   "execution_count": null,
   "metadata": {},
   "outputs": [],
   "source": [
    "result"
   ]
  },
  {
   "cell_type": "code",
   "execution_count": null,
   "metadata": {},
   "outputs": [],
   "source": [
    "result.to_csv(\"result.csv\",encoding=\"utf-8\",index=False)"
   ]
  },
  {
   "cell_type": "code",
   "execution_count": null,
   "metadata": {},
   "outputs": [],
   "source": [
    "#result.drop_duplicates(subset =\"Name\",keep = \"first\", inplace = True)\n",
    "print(result)"
   ]
  },
  {
   "cell_type": "code",
   "execution_count": null,
   "metadata": {},
   "outputs": [],
   "source": [
    "\n",
    "nm=''\n",
    "gen = {} # dictionary to store the values of different Genres\n",
    "plat = {} # dictionary to store the values of Platform \n",
    "year = {}  # dictionary to store the va;ues of year of release\n",
    "print(len(result))\n",
    "for i in range(0,314):\n",
    "    gen.setdefault(result[\"Name\"][i], {})[result[\"Genre\"][i]] = ''\n",
    "    #To eliminate the duplication of key-value pairs\n",
    "    plat.setdefault(result[\"Name\"][i], {})[result[\"Platform\"][i]] = ''  \n"
   ]
  },
  {
   "cell_type": "code",
   "execution_count": null,
   "metadata": {},
   "outputs": [],
   "source": [
    "title = list(gen.keys()) #returns a list of Keys(Names of the game)\n",
    "len(title)\n",
    "for t in title:\n",
    "    print (t)"
   ]
  },
  {
   "cell_type": "code",
   "execution_count": null,
   "metadata": {},
   "outputs": [],
   "source": [
    "gek = list(gen.values())\n",
    "genr = []\n",
    "for k in gek:\n",
    "    genr.append(list(k.keys()))\n",
    "len(genr)"
   ]
  },
  {
   "cell_type": "code",
   "execution_count": null,
   "metadata": {},
   "outputs": [],
   "source": [
    "result.drop_duplicates(subset =\"Name\",keep = 'first', inplace = True)\n",
    "for t in result['Name']:\n",
    "    print (t)\n",
    "len(result)"
   ]
  },
  {
   "cell_type": "code",
   "execution_count": null,
   "metadata": {},
   "outputs": [],
   "source": [
    "critic_score = result['Critic_Score']\n",
    "Id = result['Rank']\n",
    "year = result['Year']\n",
    "critic_score\n",
    "\n"
   ]
  },
  {
   "cell_type": "code",
   "execution_count": null,
   "metadata": {},
   "outputs": [],
   "source": [
    "Id"
   ]
  },
  {
   "cell_type": "code",
   "execution_count": null,
   "metadata": {},
   "outputs": [],
   "source": [
    "year"
   ]
  },
  {
   "cell_type": "code",
   "execution_count": null,
   "metadata": {},
   "outputs": [],
   "source": []
  }
 ],
 "metadata": {
  "kernelspec": {
   "display_name": "Python 3",
   "language": "python",
   "name": "python3"
  },
  "language_info": {
   "codemirror_mode": {
    "name": "ipython",
    "version": 3
   },
   "file_extension": ".py",
   "mimetype": "text/x-python",
   "name": "python",
   "nbconvert_exporter": "python",
   "pygments_lexer": "ipython3",
   "version": "3.7.4"
  }
 },
 "nbformat": 4,
 "nbformat_minor": 4
}
