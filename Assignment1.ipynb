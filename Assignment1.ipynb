{
 "cells": [
  {
   "cell_type": "markdown",
   "metadata": {},
   "source": [
    "# Get top Video Games through Gamespot API\n"
   ]
  },
  {
   "cell_type": "markdown",
   "metadata": {},
   "source": [
    "### ABSTRACT\n"
   ]
  },
  {
   "cell_type": "markdown",
   "metadata": {},
   "source": [
    "We are working on a video game ratings dataset and will be extracting video game data from 3 different data sources and then will be munging them together to form a consistent dataset. "
   ]
  },
  {
   "cell_type": "markdown",
   "metadata": {},
   "source": [
    "## Data"
   ]
  },
  {
   "cell_type": "markdown",
   "metadata": {},
   "source": [
    "Data gathered from Gamespot API mentioned below. Data consists of \n",
    "\n",
    "\n",
    "\n",
    "\n",
    "\n",
    "\n"
   ]
  },
  {
   "cell_type": "markdown",
   "metadata": {},
   "source": [
    "## Importing Libraries"
   ]
  },
  {
   "cell_type": "code",
   "execution_count": 231,
   "metadata": {},
   "outputs": [],
   "source": [
    "import requests\n",
    "import pandas as pd\n",
    "import json\n",
    "import os\n",
    "import rawgpy\n",
    "import http.client"
   ]
  },
  {
   "cell_type": "markdown",
   "metadata": {},
   "source": [
    "### DATA SOURCE 1 : USING API"
   ]
  },
  {
   "cell_type": "markdown",
   "metadata": {},
   "source": [
    "### Importing the dataset using API"
   ]
  },
  {
   "cell_type": "code",
   "execution_count": null,
   "metadata": {},
   "outputs": [],
   "source": [
    "api_key = 'fde9b37127a4f75830670de572f0c948'\n",
    "url = 'https://chicken-coop.fr/rest/games/[{}]?platform=[{}]&selectors[]=title&selectors[]=genre&selectors[]=score&selectors[]=alsoAvailableOn&selectors[]=image&selectors[]=description'\n",
    "limit = 5\n",
    "counter = 0\n",
    "\n",
    "for offset in range(0, 5000):\n",
    "    name_only_fields = f'fields name,popularity,cover,similar_games,slug,url;limit {limit};offset {offset};'\n",
    "    response = requests.post('https://api-v3.igdb.com/games', name_only_fields,\n",
    "                             headers={\"user-key\": api_key})\n",
    "    counter += len(response.json())\n",
    "print (response)"
   ]
  },
  {
   "cell_type": "code",
   "execution_count": 233,
   "metadata": {},
   "outputs": [],
   "source": [
    "from bs4 import BeautifulSoup\n",
    "import requests\n",
    "import pandas as pd\n",
    "import numpy as np"
   ]
  },
  {
   "cell_type": "code",
   "execution_count": 234,
   "metadata": {},
   "outputs": [
    {
     "name": "stdout",
     "output_type": "stream",
     "text": [
      "200\n"
     ]
    }
   ],
   "source": [
    "# Fetching the tags from the website\n",
    "url = 'http://www.vgchartz.com/gamedb/games.php?name=&keyword=&console=&region=All&developer=&publisher=&goty_year=&genre=&boxart=Both&banner=Both&ownership=Both&showmultiplat=Yes&results=200&order=Sales&showtotalsales=0&showpublisher=0&showpublisher=1&showvgchartzscore=0&shownasales=0&showdeveloper=0&showcriticscore=0&showpalsales=0&showreleasedate=0&showuserscore=0&showjapansales=0&showlastupdate=0&showothersales=0&showshipped=0'\n",
    "html = requests.get(url, headers = {'User-Agent':'Mozilla/5.0'})\n",
    "print(html.status_code)\n"
   ]
  },
  {
   "cell_type": "code",
   "execution_count": 243,
   "metadata": {},
   "outputs": [
    {
     "name": "stdout",
     "output_type": "stream",
     "text": [
      "Index(['Rank', 'Name', 'Platform', 'Publisher'], dtype='object')\n",
      "     Rank                                      Name Platform  \\\n",
      "0       1                                Wii Sports      Wii   \n",
      "1       2                         Super Mario Bros.      NES   \n",
      "2       3                            Mario Kart Wii      Wii   \n",
      "3       4             PLAYERUNKNOWN'S BATTLEGROUNDS       PC   \n",
      "4       5                                 Minecraft       PC   \n",
      "..    ...                                       ...      ...   \n",
      "195   196                     Red Dead Redemption 2     XOne   \n",
      "196   197                                   Destiny      PS4   \n",
      "197   198                                  Tekken 2       PS   \n",
      "198   199    Uncharted: The Nathan Drake Collection      PS4   \n",
      "199   200  Super Mario World: Super Mario Advance 2      GBA   \n",
      "\n",
      "                       Publisher  \n",
      "0                       Nintendo  \n",
      "1                       Nintendo  \n",
      "2                       Nintendo  \n",
      "3               PUBG Corporation  \n",
      "4                         Mojang  \n",
      "..                           ...  \n",
      "195               Rockstar Games  \n",
      "196                   Activision  \n",
      "197                        Namco  \n",
      "198  Sony Computer Entertainment  \n",
      "199                     Nintendo  \n",
      "\n",
      "[200 rows x 4 columns]\n"
     ]
    }
   ],
   "source": [
    "soup = BeautifulSoup(html.content, 'html.parser')\n",
    "k=[]\n",
    "rank=[]\n",
    "gname=[]\n",
    "publisher=[]\n",
    "platform=[]\n",
    "release_date=[]\n",
    "for tag in soup.find_all('a'):\n",
    "    if tag['href'].startswith('http://www.vgchartz.com/game/'):\n",
    "        k.append(tag.get_text().strip())\n",
    "        data=tag.parent.parent.find_all('td')\n",
    "        if data!=[]:\n",
    "            rank.append(np.int32(data[0].string))\n",
    "            platform.append(data[3].find('img').attrs['alt'].strip(' '))\n",
    "            publisher.append(data[4].string.strip(' '))\n",
    "gname = k[10:]\n",
    "columns = {\n",
    "    'Rank': rank,\n",
    "    'Name':gname,\n",
    "    'Platform':platform,\n",
    "    'Publisher':publisher\n",
    "}\n",
    "df = pd.DataFrame(columns)\n",
    "print(df.columns)\n",
    "df = df[[\n",
    "    'Rank', 'Name', 'Platform',\n",
    "    'Publisher']]\n",
    "df.to_csv(\"vgsales.csv\", sep=\",\", encoding='utf-8', index=False)\n",
    "print(df)"
   ]
  },
  {
   "cell_type": "code",
   "execution_count": 248,
   "metadata": {},
   "outputs": [
    {
     "name": "stdout",
     "output_type": "stream",
     "text": [
      "http://www.gamespot.com/api/games/?api_key=f190e9fbed2c2dfe332f94304b0e644b1db12802&format=json&filter=name:wii-sports,limit:10\n"
     ]
    },
    {
     "ename": "JSONDecodeError",
     "evalue": "Expecting value: line 1 column 1 (char 0)",
     "output_type": "error",
     "traceback": [
      "\u001b[0;31m---------------------------------------------------------------------------\u001b[0m",
      "\u001b[0;31mJSONDecodeError\u001b[0m                           Traceback (most recent call last)",
      "\u001b[0;32m<ipython-input-248-5a360192f72d>\u001b[0m in \u001b[0;36m<module>\u001b[0;34m\u001b[0m\n\u001b[1;32m      8\u001b[0m     \u001b[0mgameData\u001b[0m \u001b[0;34m=\u001b[0m \u001b[0mrequests\u001b[0m\u001b[0;34m.\u001b[0m\u001b[0mget\u001b[0m\u001b[0;34m(\u001b[0m\u001b[0murl\u001b[0m\u001b[0;34m)\u001b[0m\u001b[0;34m\u001b[0m\u001b[0;34m\u001b[0m\u001b[0m\n\u001b[1;32m      9\u001b[0m     \u001b[0mprint\u001b[0m \u001b[0;34m(\u001b[0m\u001b[0murl\u001b[0m\u001b[0;34m)\u001b[0m\u001b[0;34m\u001b[0m\u001b[0;34m\u001b[0m\u001b[0m\n\u001b[0;32m---> 10\u001b[0;31m     \u001b[0mrawTopMoviesJsonData\u001b[0m\u001b[0;34m.\u001b[0m\u001b[0mappend\u001b[0m\u001b[0;34m(\u001b[0m\u001b[0mgameData\u001b[0m\u001b[0;34m.\u001b[0m\u001b[0mjson\u001b[0m\u001b[0;34m(\u001b[0m\u001b[0;34m)\u001b[0m\u001b[0;34m)\u001b[0m\u001b[0;34m\u001b[0m\u001b[0;34m\u001b[0m\u001b[0m\n\u001b[0m\u001b[1;32m     11\u001b[0m     \u001b[0mtopMovies\u001b[0m \u001b[0;34m+=\u001b[0m \u001b[0mgameData\u001b[0m\u001b[0;34m.\u001b[0m\u001b[0mjson\u001b[0m\u001b[0;34m(\u001b[0m\u001b[0;34m)\u001b[0m\u001b[0;34m[\u001b[0m\u001b[0;34m'results'\u001b[0m\u001b[0;34m]\u001b[0m\u001b[0;34m\u001b[0m\u001b[0;34m\u001b[0m\u001b[0m\n\u001b[1;32m     12\u001b[0m \u001b[0mtopMovies\u001b[0m\u001b[0;34m=\u001b[0m\u001b[0;34m[\u001b[0m\u001b[0;34m]\u001b[0m\u001b[0;34m\u001b[0m\u001b[0;34m\u001b[0m\u001b[0m\n",
      "\u001b[0;32m~/opt/anaconda3/lib/python3.7/site-packages/requests/models.py\u001b[0m in \u001b[0;36mjson\u001b[0;34m(self, **kwargs)\u001b[0m\n\u001b[1;32m    895\u001b[0m                     \u001b[0;31m# used.\u001b[0m\u001b[0;34m\u001b[0m\u001b[0;34m\u001b[0m\u001b[0;34m\u001b[0m\u001b[0m\n\u001b[1;32m    896\u001b[0m                     \u001b[0;32mpass\u001b[0m\u001b[0;34m\u001b[0m\u001b[0;34m\u001b[0m\u001b[0m\n\u001b[0;32m--> 897\u001b[0;31m         \u001b[0;32mreturn\u001b[0m \u001b[0mcomplexjson\u001b[0m\u001b[0;34m.\u001b[0m\u001b[0mloads\u001b[0m\u001b[0;34m(\u001b[0m\u001b[0mself\u001b[0m\u001b[0;34m.\u001b[0m\u001b[0mtext\u001b[0m\u001b[0;34m,\u001b[0m \u001b[0;34m**\u001b[0m\u001b[0mkwargs\u001b[0m\u001b[0;34m)\u001b[0m\u001b[0;34m\u001b[0m\u001b[0;34m\u001b[0m\u001b[0m\n\u001b[0m\u001b[1;32m    898\u001b[0m \u001b[0;34m\u001b[0m\u001b[0m\n\u001b[1;32m    899\u001b[0m     \u001b[0;34m@\u001b[0m\u001b[0mproperty\u001b[0m\u001b[0;34m\u001b[0m\u001b[0;34m\u001b[0m\u001b[0m\n",
      "\u001b[0;32m~/opt/anaconda3/lib/python3.7/json/__init__.py\u001b[0m in \u001b[0;36mloads\u001b[0;34m(s, encoding, cls, object_hook, parse_float, parse_int, parse_constant, object_pairs_hook, **kw)\u001b[0m\n\u001b[1;32m    346\u001b[0m             \u001b[0mparse_int\u001b[0m \u001b[0;32mis\u001b[0m \u001b[0;32mNone\u001b[0m \u001b[0;32mand\u001b[0m \u001b[0mparse_float\u001b[0m \u001b[0;32mis\u001b[0m \u001b[0;32mNone\u001b[0m \u001b[0;32mand\u001b[0m\u001b[0;34m\u001b[0m\u001b[0;34m\u001b[0m\u001b[0m\n\u001b[1;32m    347\u001b[0m             parse_constant is None and object_pairs_hook is None and not kw):\n\u001b[0;32m--> 348\u001b[0;31m         \u001b[0;32mreturn\u001b[0m \u001b[0m_default_decoder\u001b[0m\u001b[0;34m.\u001b[0m\u001b[0mdecode\u001b[0m\u001b[0;34m(\u001b[0m\u001b[0ms\u001b[0m\u001b[0;34m)\u001b[0m\u001b[0;34m\u001b[0m\u001b[0;34m\u001b[0m\u001b[0m\n\u001b[0m\u001b[1;32m    349\u001b[0m     \u001b[0;32mif\u001b[0m \u001b[0mcls\u001b[0m \u001b[0;32mis\u001b[0m \u001b[0;32mNone\u001b[0m\u001b[0;34m:\u001b[0m\u001b[0;34m\u001b[0m\u001b[0;34m\u001b[0m\u001b[0m\n\u001b[1;32m    350\u001b[0m         \u001b[0mcls\u001b[0m \u001b[0;34m=\u001b[0m \u001b[0mJSONDecoder\u001b[0m\u001b[0;34m\u001b[0m\u001b[0;34m\u001b[0m\u001b[0m\n",
      "\u001b[0;32m~/opt/anaconda3/lib/python3.7/json/decoder.py\u001b[0m in \u001b[0;36mdecode\u001b[0;34m(self, s, _w)\u001b[0m\n\u001b[1;32m    335\u001b[0m \u001b[0;34m\u001b[0m\u001b[0m\n\u001b[1;32m    336\u001b[0m         \"\"\"\n\u001b[0;32m--> 337\u001b[0;31m         \u001b[0mobj\u001b[0m\u001b[0;34m,\u001b[0m \u001b[0mend\u001b[0m \u001b[0;34m=\u001b[0m \u001b[0mself\u001b[0m\u001b[0;34m.\u001b[0m\u001b[0mraw_decode\u001b[0m\u001b[0;34m(\u001b[0m\u001b[0ms\u001b[0m\u001b[0;34m,\u001b[0m \u001b[0midx\u001b[0m\u001b[0;34m=\u001b[0m\u001b[0m_w\u001b[0m\u001b[0;34m(\u001b[0m\u001b[0ms\u001b[0m\u001b[0;34m,\u001b[0m \u001b[0;36m0\u001b[0m\u001b[0;34m)\u001b[0m\u001b[0;34m.\u001b[0m\u001b[0mend\u001b[0m\u001b[0;34m(\u001b[0m\u001b[0;34m)\u001b[0m\u001b[0;34m)\u001b[0m\u001b[0;34m\u001b[0m\u001b[0;34m\u001b[0m\u001b[0m\n\u001b[0m\u001b[1;32m    338\u001b[0m         \u001b[0mend\u001b[0m \u001b[0;34m=\u001b[0m \u001b[0m_w\u001b[0m\u001b[0;34m(\u001b[0m\u001b[0ms\u001b[0m\u001b[0;34m,\u001b[0m \u001b[0mend\u001b[0m\u001b[0;34m)\u001b[0m\u001b[0;34m.\u001b[0m\u001b[0mend\u001b[0m\u001b[0;34m(\u001b[0m\u001b[0;34m)\u001b[0m\u001b[0;34m\u001b[0m\u001b[0;34m\u001b[0m\u001b[0m\n\u001b[1;32m    339\u001b[0m         \u001b[0;32mif\u001b[0m \u001b[0mend\u001b[0m \u001b[0;34m!=\u001b[0m \u001b[0mlen\u001b[0m\u001b[0;34m(\u001b[0m\u001b[0ms\u001b[0m\u001b[0;34m)\u001b[0m\u001b[0;34m:\u001b[0m\u001b[0;34m\u001b[0m\u001b[0;34m\u001b[0m\u001b[0m\n",
      "\u001b[0;32m~/opt/anaconda3/lib/python3.7/json/decoder.py\u001b[0m in \u001b[0;36mraw_decode\u001b[0;34m(self, s, idx)\u001b[0m\n\u001b[1;32m    353\u001b[0m             \u001b[0mobj\u001b[0m\u001b[0;34m,\u001b[0m \u001b[0mend\u001b[0m \u001b[0;34m=\u001b[0m \u001b[0mself\u001b[0m\u001b[0;34m.\u001b[0m\u001b[0mscan_once\u001b[0m\u001b[0;34m(\u001b[0m\u001b[0ms\u001b[0m\u001b[0;34m,\u001b[0m \u001b[0midx\u001b[0m\u001b[0;34m)\u001b[0m\u001b[0;34m\u001b[0m\u001b[0;34m\u001b[0m\u001b[0m\n\u001b[1;32m    354\u001b[0m         \u001b[0;32mexcept\u001b[0m \u001b[0mStopIteration\u001b[0m \u001b[0;32mas\u001b[0m \u001b[0merr\u001b[0m\u001b[0;34m:\u001b[0m\u001b[0;34m\u001b[0m\u001b[0;34m\u001b[0m\u001b[0m\n\u001b[0;32m--> 355\u001b[0;31m             \u001b[0;32mraise\u001b[0m \u001b[0mJSONDecodeError\u001b[0m\u001b[0;34m(\u001b[0m\u001b[0;34m\"Expecting value\"\u001b[0m\u001b[0;34m,\u001b[0m \u001b[0ms\u001b[0m\u001b[0;34m,\u001b[0m \u001b[0merr\u001b[0m\u001b[0;34m.\u001b[0m\u001b[0mvalue\u001b[0m\u001b[0;34m)\u001b[0m \u001b[0;32mfrom\u001b[0m \u001b[0;32mNone\u001b[0m\u001b[0;34m\u001b[0m\u001b[0;34m\u001b[0m\u001b[0m\n\u001b[0m\u001b[1;32m    356\u001b[0m         \u001b[0;32mreturn\u001b[0m \u001b[0mobj\u001b[0m\u001b[0;34m,\u001b[0m \u001b[0mend\u001b[0m\u001b[0;34m\u001b[0m\u001b[0;34m\u001b[0m\u001b[0m\n",
      "\u001b[0;31mJSONDecodeError\u001b[0m: Expecting value: line 1 column 1 (char 0)"
     ]
    }
   ],
   "source": [
    "import json\n",
    "api_key='f190e9fbed2c2dfe332f94304b0e644b1db12802'\n",
    "g_reviews=[]\n",
    "rawTopMoviesJsonData = []\n",
    "topMovies = []\n",
    "for i in gname:\n",
    "    url = 'http://www.gamespot.com/api/games/?api_key='+api_key+'&format=json&filter=name:'+i.replace(\" \",\"-\").lower()+',limit:10'\n",
    "    gameData = requests.get(url)\n",
    "    print (url)\n",
    "    rawTopMoviesJsonData.append(gameData.json())\n",
    "    topMovies += gameData.json()['results']\n",
    "topMovies=[]\n",
    "gameData = requests.get(url)\n",
    "print(gameData.status_code)\n"
   ]
  },
  {
   "cell_type": "code",
   "execution_count": 258,
   "metadata": {},
   "outputs": [
    {
     "name": "stdout",
     "output_type": "stream",
     "text": [
      "200\n"
     ]
    }
   ],
   "source": [
    "import rawgpy\n",
    "import json\n",
    "rawg_ratings = []\n",
    "genre = []\n",
    "rawg = rawgpy.RAWG(\"User-Agent, this should identify your app\")\n",
    "for name in gname:\n",
    "    results = rawg.search(name)  # defaults to returning the top 5 results\n",
    "    game = results[0]\n",
    "    game.populate()\n",
    "    rawg_ratings.append(game.rating)\n",
    "print (len(rawg_ratings))"
   ]
  },
  {
   "cell_type": "code",
   "execution_count": 259,
   "metadata": {},
   "outputs": [
    {
     "name": "stdout",
     "output_type": "stream",
     "text": [
      "[4.2, 4.27, 4.16, 3.4, 4.33, 4.2, 4.31, 4.08, 3.95, 4.33, 4.14, 3.32, 3.36, 3.64, 4.21, 4.39, 3.65, 3.62, 4.34, 4.48, 4.48, 3.62, 4.36, 4.03, 3.92, 4.17, 4.44, 4.32, 3.72, 3.99, 4.52, 4.21, 3.81, 4.41, 4.48, 4.38, 4.16, 4.4, 3.22, 3.66, 2.11, 4.0, 0.0, 3.64, 4.0, 0.0, 4.53, 4.32, 4.17, 4.53, 3.9, 3.9, 4.25, 3.47, 3.64, 4.3, 3.72, 4.43, 4.18, 4.6, 4.33, 4.3, 4.39, 4.0, 4.48, 4.2, 4.34, 4.09, 4.38, 4.07, 4.37, 3.44, 4.69, 4.24, 4.28, 3.88, 4.25, 4.22, 4.32, 4.33, 3.96, 3.28, 4.41, 4.25, 4.22, 4.33, 3.03, 3.9, 3.03, 4.42, 3.92, 4.27, 4.5, 3.81, 4.37, 4.3, 4.24, 4.37, 4.34, 4.41, 3.46, 4.0, 3.93, 4.38, 4.33, 4.24, 3.48, 3.34, 4.47, 4.4, 3.28, 4.1, 4.48, 4.25, 4.38, 3.74, 4.3, 3.56, 3.72, 4.3, 4.35, 3.26, 4.57, 4.33, 3.51, 3.52, 4.41, 3.88, 3.96, 4.21, 4.37, 4.38, 4.35, 3.96, 4.28, 3.39, 3.93, 3.9, 4.24, 4.32, 3.22, 3.98, 0.0, 4.32, 3.79, 3.98, 4.32, 3.93, 4.27, 0.0, 4.34, 3.9, 4.36, 4.0, 4.16, 0.0, 4.36, 4.34, 0.0, 3.2, 4.38, 4.37, 4.18, 4.12, 3.66, 3.95, 4.38, 4.4, 4.08, 4.33, 4.13, 4.33, 3.27, 4.34, 4.21, 4.09, 3.47, 4.02, 0.0, 4.33, 4.31, 4.38, 4.4, 4.03, 3.84, 4.28, 4.37, 4.02, 3.83, 4.31, 4.06, 4.34, 4.08, 3.67, 3.88, 4.53, 3.78, 4.07, 4.4, 4.31]\n"
     ]
    }
   ],
   "source": [
    "print (rawg_ratings)\n",
    "print ()"
   ]
  },
  {
   "cell_type": "code",
   "execution_count": null,
   "metadata": {},
   "outputs": [],
   "source": []
  }
 ],
 "metadata": {
  "kernelspec": {
   "display_name": "Python 3",
   "language": "python",
   "name": "python3"
  },
  "language_info": {
   "codemirror_mode": {
    "name": "ipython",
    "version": 3
   },
   "file_extension": ".py",
   "mimetype": "text/x-python",
   "name": "python",
   "nbconvert_exporter": "python",
   "pygments_lexer": "ipython3",
   "version": "3.7.4"
  }
 },
 "nbformat": 4,
 "nbformat_minor": 4
}
