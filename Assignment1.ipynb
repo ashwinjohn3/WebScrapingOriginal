{
 "cells": [
  {
   "cell_type": "markdown",
   "metadata": {},
   "source": [
    "# Get top Video Games through Gamespot API\n"
   ]
  },
  {
   "cell_type": "markdown",
   "metadata": {},
   "source": [
    "### ABSTRACT\n"
   ]
  },
  {
   "cell_type": "markdown",
   "metadata": {},
   "source": [
    "We are working on a video game ratings dataset and will be extracting video game data from 3 different data sources and then will be munging them together to form a consistent dataset. "
   ]
  },
  {
   "cell_type": "markdown",
   "metadata": {},
   "source": [
    "## Data"
   ]
  },
  {
   "cell_type": "markdown",
   "metadata": {},
   "source": [
    "Data gathered from Gamespot API mentioned below. Data consists of \n",
    "\n",
    "\n",
    "\n",
    "\n",
    "\n",
    "\n"
   ]
  },
  {
   "cell_type": "markdown",
   "metadata": {},
   "source": [
    "## Importing Libraries"
   ]
  },
  {
   "cell_type": "code",
   "execution_count": 1,
   "metadata": {},
   "outputs": [],
   "source": [
    "import requests\n",
    "import pandas as pd\n",
    "import json\n",
    "import os\n",
    "import rawgpy\n",
    "import http.client"
   ]
  },
  {
   "cell_type": "markdown",
   "metadata": {},
   "source": [
    "### DATA SOURCE 1 : USING API"
   ]
  },
  {
   "cell_type": "markdown",
   "metadata": {},
   "source": [
    "### Importing the dataset using API"
   ]
  },
  {
   "cell_type": "code",
   "execution_count": 2,
   "metadata": {},
   "outputs": [],
   "source": [
    "from bs4 import BeautifulSoup\n",
    "import requests\n",
    "import pandas as pd\n",
    "import numpy as np"
   ]
  },
  {
   "cell_type": "code",
   "execution_count": 3,
   "metadata": {},
   "outputs": [
    {
     "name": "stdout",
     "output_type": "stream",
     "text": [
      "200\n"
     ]
    }
   ],
   "source": [
    "# Fetching the tags from the website\n",
    "url = 'http://www.vgchartz.com/gamedb/games.php?name=&keyword=&console=&region=All&developer=&publisher=&goty_year=&genre=&boxart=Both&banner=Both&ownership=Both&showmultiplat=Yes&results=200&order=Sales&showtotalsales=0&showpublisher=0&showpublisher=1&showvgchartzscore=0&shownasales=0&showdeveloper=0&showcriticscore=0&showpalsales=0&showreleasedate=0&showuserscore=0&showjapansales=0&showlastupdate=0&showothersales=0&showshipped=0'\n",
    "html = requests.get(url, headers = {'User-Agent':'Mozilla/5.0'})\n",
    "print(html.status_code)\n"
   ]
  },
  {
   "cell_type": "code",
   "execution_count": 107,
   "metadata": {},
   "outputs": [
    {
     "name": "stdout",
     "output_type": "stream",
     "text": [
      "Index(['Rank', 'Name', 'Platform', 'Publisher'], dtype='object')\n",
      "     Rank                                      Name Platform  \\\n",
      "0       1                                Wii Sports      Wii   \n",
      "1       2                         Super Mario Bros.      NES   \n",
      "2       3                            Mario Kart Wii      Wii   \n",
      "3       4             PLAYERUNKNOWN'S BATTLEGROUNDS       PC   \n",
      "4       5                                 Minecraft       PC   \n",
      "..    ...                                       ...      ...   \n",
      "195   196                     Red Dead Redemption 2     XOne   \n",
      "196   197                                   Destiny      PS4   \n",
      "197   198                                  Tekken 2       PS   \n",
      "198   199    Uncharted: The Nathan Drake Collection      PS4   \n",
      "199   200  Super Mario World: Super Mario Advance 2      GBA   \n",
      "\n",
      "                       Publisher  \n",
      "0                       Nintendo  \n",
      "1                       Nintendo  \n",
      "2                       Nintendo  \n",
      "3               PUBG Corporation  \n",
      "4                         Mojang  \n",
      "..                           ...  \n",
      "195               Rockstar Games  \n",
      "196                   Activision  \n",
      "197                        Namco  \n",
      "198  Sony Computer Entertainment  \n",
      "199                     Nintendo  \n",
      "\n",
      "[200 rows x 4 columns]\n"
     ]
    }
   ],
   "source": [
    "soup = BeautifulSoup(html.content, 'html.parser')\n",
    "k=[]\n",
    "rank=[]\n",
    "gname=[]\n",
    "publisher=[]\n",
    "platform=[]\n",
    "release_date=[]\n",
    "for tag in soup.find_all('a'):\n",
    "    if tag['href'].startswith('http://www.vgchartz.com/game/'):\n",
    "        k.append(tag.get_text().strip())\n",
    "        data=tag.parent.parent.find_all('td')\n",
    "        if data!=[]:\n",
    "            rank.append(np.int32(data[0].string))\n",
    "            platform.append(data[3].find('img').attrs['alt'].strip(' '))\n",
    "            publisher.append(data[4].string.strip(' '))\n",
    "gname = k[10:]\n",
    "columns = {\n",
    "    'Rank': rank,\n",
    "    'Name':gname,\n",
    "    'Platform':platform,\n",
    "    'Publisher':publisher\n",
    "}\n",
    "df = pd.DataFrame(columns)\n",
    "print(df.columns)\n",
    "df = df[[\n",
    "    'Rank', 'Name', 'Platform',\n",
    "    'Publisher']]\n",
    "df.to_csv(\"vgsales.csv\", sep=\",\", encoding='utf-8', index=False)\n",
    "\n",
    "#df.drop_duplicates(subset =\"Name\",keep = False, inplace = True)\n",
    "print (df)"
   ]
  },
  {
   "cell_type": "code",
   "execution_count": 10,
   "metadata": {},
   "outputs": [
    {
     "name": "stdout",
     "output_type": "stream",
     "text": [
      "200\n"
     ]
    }
   ],
   "source": [
    "import rawgpy\n",
    "import json\n",
    "rawg_ratings = []\n",
    "genre = []\n",
    "rawg = rawgpy.RAWG(\"User-Agent, this should identify your app\")\n",
    "for name in gname:\n",
    "    results = rawg.search(name)  # defaults to returning the top 5 results\n",
    "    game = results[0]\n",
    "    game.populate()\n",
    "    rawg_ratings.append(game.rating)\n",
    "    rawgpy.\n",
    "print (len(rawg_ratings))"
   ]
  },
  {
   "cell_type": "code",
   "execution_count": 11,
   "metadata": {},
   "outputs": [
    {
     "data": {
      "text/html": [
       "<div>\n",
       "<style scoped>\n",
       "    .dataframe tbody tr th:only-of-type {\n",
       "        vertical-align: middle;\n",
       "    }\n",
       "\n",
       "    .dataframe tbody tr th {\n",
       "        vertical-align: top;\n",
       "    }\n",
       "\n",
       "    .dataframe thead th {\n",
       "        text-align: right;\n",
       "    }\n",
       "</style>\n",
       "<table border=\"1\" class=\"dataframe\">\n",
       "  <thead>\n",
       "    <tr style=\"text-align: right;\">\n",
       "      <th></th>\n",
       "      <th>Rank</th>\n",
       "      <th>Name</th>\n",
       "      <th>Platform</th>\n",
       "      <th>Publisher</th>\n",
       "      <th>RAWG Ratings</th>\n",
       "    </tr>\n",
       "  </thead>\n",
       "  <tbody>\n",
       "    <tr>\n",
       "      <td>0</td>\n",
       "      <td>1</td>\n",
       "      <td>Wii Sports</td>\n",
       "      <td>Wii</td>\n",
       "      <td>Nintendo</td>\n",
       "      <td>4.20</td>\n",
       "    </tr>\n",
       "    <tr>\n",
       "      <td>1</td>\n",
       "      <td>2</td>\n",
       "      <td>Super Mario Bros.</td>\n",
       "      <td>NES</td>\n",
       "      <td>Nintendo</td>\n",
       "      <td>4.27</td>\n",
       "    </tr>\n",
       "    <tr>\n",
       "      <td>2</td>\n",
       "      <td>3</td>\n",
       "      <td>Mario Kart Wii</td>\n",
       "      <td>Wii</td>\n",
       "      <td>Nintendo</td>\n",
       "      <td>4.16</td>\n",
       "    </tr>\n",
       "    <tr>\n",
       "      <td>3</td>\n",
       "      <td>4</td>\n",
       "      <td>PLAYERUNKNOWN'S BATTLEGROUNDS</td>\n",
       "      <td>PC</td>\n",
       "      <td>PUBG Corporation</td>\n",
       "      <td>3.40</td>\n",
       "    </tr>\n",
       "    <tr>\n",
       "      <td>4</td>\n",
       "      <td>5</td>\n",
       "      <td>Minecraft</td>\n",
       "      <td>PC</td>\n",
       "      <td>Mojang</td>\n",
       "      <td>4.33</td>\n",
       "    </tr>\n",
       "    <tr>\n",
       "      <td>...</td>\n",
       "      <td>...</td>\n",
       "      <td>...</td>\n",
       "      <td>...</td>\n",
       "      <td>...</td>\n",
       "      <td>...</td>\n",
       "    </tr>\n",
       "    <tr>\n",
       "      <td>195</td>\n",
       "      <td>196</td>\n",
       "      <td>Red Dead Redemption 2</td>\n",
       "      <td>XOne</td>\n",
       "      <td>Rockstar Games</td>\n",
       "      <td>4.53</td>\n",
       "    </tr>\n",
       "    <tr>\n",
       "      <td>196</td>\n",
       "      <td>197</td>\n",
       "      <td>Destiny</td>\n",
       "      <td>PS4</td>\n",
       "      <td>Activision</td>\n",
       "      <td>3.78</td>\n",
       "    </tr>\n",
       "    <tr>\n",
       "      <td>197</td>\n",
       "      <td>198</td>\n",
       "      <td>Tekken 2</td>\n",
       "      <td>PS</td>\n",
       "      <td>Namco</td>\n",
       "      <td>4.07</td>\n",
       "    </tr>\n",
       "    <tr>\n",
       "      <td>198</td>\n",
       "      <td>199</td>\n",
       "      <td>Uncharted: The Nathan Drake Collection</td>\n",
       "      <td>PS4</td>\n",
       "      <td>Sony Computer Entertainment</td>\n",
       "      <td>4.40</td>\n",
       "    </tr>\n",
       "    <tr>\n",
       "      <td>199</td>\n",
       "      <td>200</td>\n",
       "      <td>Super Mario World: Super Mario Advance 2</td>\n",
       "      <td>GBA</td>\n",
       "      <td>Nintendo</td>\n",
       "      <td>4.31</td>\n",
       "    </tr>\n",
       "  </tbody>\n",
       "</table>\n",
       "<p>200 rows × 5 columns</p>\n",
       "</div>"
      ],
      "text/plain": [
       "     Rank                                      Name Platform  \\\n",
       "0       1                                Wii Sports      Wii   \n",
       "1       2                         Super Mario Bros.      NES   \n",
       "2       3                            Mario Kart Wii      Wii   \n",
       "3       4             PLAYERUNKNOWN'S BATTLEGROUNDS       PC   \n",
       "4       5                                 Minecraft       PC   \n",
       "..    ...                                       ...      ...   \n",
       "195   196                     Red Dead Redemption 2     XOne   \n",
       "196   197                                   Destiny      PS4   \n",
       "197   198                                  Tekken 2       PS   \n",
       "198   199    Uncharted: The Nathan Drake Collection      PS4   \n",
       "199   200  Super Mario World: Super Mario Advance 2      GBA   \n",
       "\n",
       "                       Publisher  RAWG Ratings  \n",
       "0                       Nintendo          4.20  \n",
       "1                       Nintendo          4.27  \n",
       "2                       Nintendo          4.16  \n",
       "3               PUBG Corporation          3.40  \n",
       "4                         Mojang          4.33  \n",
       "..                           ...           ...  \n",
       "195               Rockstar Games          4.53  \n",
       "196                   Activision          3.78  \n",
       "197                        Namco          4.07  \n",
       "198  Sony Computer Entertainment          4.40  \n",
       "199                     Nintendo          4.31  \n",
       "\n",
       "[200 rows x 5 columns]"
      ]
     },
     "execution_count": 11,
     "metadata": {},
     "output_type": "execute_result"
    }
   ],
   "source": [
    "df['RAWG Ratings']=rawg_ratings\n",
    "df"
   ]
  },
  {
   "cell_type": "code",
   "execution_count": 108,
   "metadata": {},
   "outputs": [
    {
     "name": "stdout",
     "output_type": "stream",
     "text": [
      "Rank         False\n",
      "Name         False\n",
      "Platform     False\n",
      "Publisher    False\n",
      "dtype: bool\n",
      "Index(['Rank', 'Name', 'Platform', 'Publisher'], dtype='object')\n"
     ]
    }
   ],
   "source": [
    "print(df.isnull().any())\n",
    "print(df.columns)\n",
    "dframe = pd.read_csv('vgsales2019.csv')\n",
    "dframe.drop(['Rank','ESRB_Rating','Platform','Publisher','Developer','User_Score', 'Total_Shipped', 'Global_Sales', 'NA_Sales', 'PAL_Sales', 'JP_Sales', 'Other_Sales'], axis=1, inplace= True)"
   ]
  },
  {
   "cell_type": "code",
   "execution_count": 109,
   "metadata": {},
   "outputs": [
    {
     "name": "stdout",
     "output_type": "stream",
     "text": [
      "Name                0\n",
      "Genre               0\n",
      "Critic_Score    49256\n",
      "Year              979\n",
      "dtype: int64\n",
      "Index(['Name', 'Genre', 'Critic_Score', 'Year'], dtype='object')\n"
     ]
    }
   ],
   "source": [
    "print (dframe.isna().sum())\n",
    "dframe.dropna(axis=0, how='any', thresh=None, subset=None, inplace=True)\n",
    "dframe.head(100)\n",
    "print(dframe.columns)"
   ]
  },
  {
   "cell_type": "code",
   "execution_count": 110,
   "metadata": {},
   "outputs": [],
   "source": [
    "# Merging the two dataframe df and dframe having unique names\n",
    "result = pd.merge(df,dframe, \n",
    "                 on = 'Name')"
   ]
  },
  {
   "cell_type": "code",
   "execution_count": 33,
   "metadata": {},
   "outputs": [
    {
     "data": {
      "text/html": [
       "<div>\n",
       "<style scoped>\n",
       "    .dataframe tbody tr th:only-of-type {\n",
       "        vertical-align: middle;\n",
       "    }\n",
       "\n",
       "    .dataframe tbody tr th {\n",
       "        vertical-align: top;\n",
       "    }\n",
       "\n",
       "    .dataframe thead th {\n",
       "        text-align: right;\n",
       "    }\n",
       "</style>\n",
       "<table border=\"1\" class=\"dataframe\">\n",
       "  <thead>\n",
       "    <tr style=\"text-align: right;\">\n",
       "      <th></th>\n",
       "      <th>Rank</th>\n",
       "      <th>Name</th>\n",
       "      <th>Platform</th>\n",
       "      <th>Publisher</th>\n",
       "      <th>RAWG Ratings</th>\n",
       "      <th>Genre</th>\n",
       "      <th>Critic_Score</th>\n",
       "      <th>Year</th>\n",
       "    </tr>\n",
       "  </thead>\n",
       "  <tbody>\n",
       "    <tr>\n",
       "      <td>0</td>\n",
       "      <td>1</td>\n",
       "      <td>Wii Sports</td>\n",
       "      <td>Wii</td>\n",
       "      <td>Nintendo</td>\n",
       "      <td>4.20</td>\n",
       "      <td>Sports</td>\n",
       "      <td>7.7</td>\n",
       "      <td>2006.0</td>\n",
       "    </tr>\n",
       "    <tr>\n",
       "      <td>1</td>\n",
       "      <td>2</td>\n",
       "      <td>Super Mario Bros.</td>\n",
       "      <td>NES</td>\n",
       "      <td>Nintendo</td>\n",
       "      <td>4.27</td>\n",
       "      <td>Platform</td>\n",
       "      <td>10.0</td>\n",
       "      <td>1985.0</td>\n",
       "    </tr>\n",
       "    <tr>\n",
       "      <td>2</td>\n",
       "      <td>2</td>\n",
       "      <td>Super Mario Bros.</td>\n",
       "      <td>NES</td>\n",
       "      <td>Nintendo</td>\n",
       "      <td>4.27</td>\n",
       "      <td>Platform</td>\n",
       "      <td>9.0</td>\n",
       "      <td>2006.0</td>\n",
       "    </tr>\n",
       "    <tr>\n",
       "      <td>3</td>\n",
       "      <td>3</td>\n",
       "      <td>Mario Kart Wii</td>\n",
       "      <td>Wii</td>\n",
       "      <td>Nintendo</td>\n",
       "      <td>4.16</td>\n",
       "      <td>Racing</td>\n",
       "      <td>8.2</td>\n",
       "      <td>2008.0</td>\n",
       "    </tr>\n",
       "    <tr>\n",
       "      <td>4</td>\n",
       "      <td>5</td>\n",
       "      <td>Minecraft</td>\n",
       "      <td>PC</td>\n",
       "      <td>Mojang</td>\n",
       "      <td>4.33</td>\n",
       "      <td>Misc</td>\n",
       "      <td>10.0</td>\n",
       "      <td>2010.0</td>\n",
       "    </tr>\n",
       "    <tr>\n",
       "      <td>...</td>\n",
       "      <td>...</td>\n",
       "      <td>...</td>\n",
       "      <td>...</td>\n",
       "      <td>...</td>\n",
       "      <td>...</td>\n",
       "      <td>...</td>\n",
       "      <td>...</td>\n",
       "      <td>...</td>\n",
       "    </tr>\n",
       "    <tr>\n",
       "      <td>309</td>\n",
       "      <td>194</td>\n",
       "      <td>Link's Crossbow Training</td>\n",
       "      <td>Wii</td>\n",
       "      <td>Nintendo</td>\n",
       "      <td>3.67</td>\n",
       "      <td>Shooter</td>\n",
       "      <td>6.9</td>\n",
       "      <td>2007.0</td>\n",
       "    </tr>\n",
       "    <tr>\n",
       "      <td>310</td>\n",
       "      <td>195</td>\n",
       "      <td>New Super Mario Bros. U</td>\n",
       "      <td>WiiU</td>\n",
       "      <td>Nintendo</td>\n",
       "      <td>3.88</td>\n",
       "      <td>Platform</td>\n",
       "      <td>8.4</td>\n",
       "      <td>2012.0</td>\n",
       "    </tr>\n",
       "    <tr>\n",
       "      <td>311</td>\n",
       "      <td>197</td>\n",
       "      <td>Destiny</td>\n",
       "      <td>PS4</td>\n",
       "      <td>Activision</td>\n",
       "      <td>3.78</td>\n",
       "      <td>Shooter</td>\n",
       "      <td>8.3</td>\n",
       "      <td>2014.0</td>\n",
       "    </tr>\n",
       "    <tr>\n",
       "      <td>312</td>\n",
       "      <td>198</td>\n",
       "      <td>Tekken 2</td>\n",
       "      <td>PS</td>\n",
       "      <td>Namco</td>\n",
       "      <td>4.07</td>\n",
       "      <td>Fighting</td>\n",
       "      <td>9.1</td>\n",
       "      <td>1996.0</td>\n",
       "    </tr>\n",
       "    <tr>\n",
       "      <td>313</td>\n",
       "      <td>200</td>\n",
       "      <td>Super Mario World: Super Mario Advance 2</td>\n",
       "      <td>GBA</td>\n",
       "      <td>Nintendo</td>\n",
       "      <td>4.31</td>\n",
       "      <td>Platform</td>\n",
       "      <td>9.4</td>\n",
       "      <td>2002.0</td>\n",
       "    </tr>\n",
       "  </tbody>\n",
       "</table>\n",
       "<p>314 rows × 8 columns</p>\n",
       "</div>"
      ],
      "text/plain": [
       "     Rank                                      Name Platform   Publisher  \\\n",
       "0       1                                Wii Sports      Wii    Nintendo   \n",
       "1       2                         Super Mario Bros.      NES    Nintendo   \n",
       "2       2                         Super Mario Bros.      NES    Nintendo   \n",
       "3       3                            Mario Kart Wii      Wii    Nintendo   \n",
       "4       5                                 Minecraft       PC      Mojang   \n",
       "..    ...                                       ...      ...         ...   \n",
       "309   194                  Link's Crossbow Training      Wii    Nintendo   \n",
       "310   195                   New Super Mario Bros. U     WiiU    Nintendo   \n",
       "311   197                                   Destiny      PS4  Activision   \n",
       "312   198                                  Tekken 2       PS       Namco   \n",
       "313   200  Super Mario World: Super Mario Advance 2      GBA    Nintendo   \n",
       "\n",
       "     RAWG Ratings     Genre  Critic_Score    Year  \n",
       "0            4.20    Sports           7.7  2006.0  \n",
       "1            4.27  Platform          10.0  1985.0  \n",
       "2            4.27  Platform           9.0  2006.0  \n",
       "3            4.16    Racing           8.2  2008.0  \n",
       "4            4.33      Misc          10.0  2010.0  \n",
       "..            ...       ...           ...     ...  \n",
       "309          3.67   Shooter           6.9  2007.0  \n",
       "310          3.88  Platform           8.4  2012.0  \n",
       "311          3.78   Shooter           8.3  2014.0  \n",
       "312          4.07  Fighting           9.1  1996.0  \n",
       "313          4.31  Platform           9.4  2002.0  \n",
       "\n",
       "[314 rows x 8 columns]"
      ]
     },
     "execution_count": 33,
     "metadata": {},
     "output_type": "execute_result"
    }
   ],
   "source": [
    "result"
   ]
  },
  {
   "cell_type": "code",
   "execution_count": 111,
   "metadata": {},
   "outputs": [],
   "source": [
    "result.to_csv(\"result.csv\",encoding=\"utf-8\",index=False)"
   ]
  },
  {
   "cell_type": "code",
   "execution_count": 81,
   "metadata": {},
   "outputs": [
    {
     "name": "stdout",
     "output_type": "stream",
     "text": [
      "     Rank                                      Name Platform   Publisher  \\\n",
      "0       1                                Wii Sports      Wii    Nintendo   \n",
      "1       2                         Super Mario Bros.      NES    Nintendo   \n",
      "2       2                         Super Mario Bros.      NES    Nintendo   \n",
      "3       3                            Mario Kart Wii      Wii    Nintendo   \n",
      "4       5                                 Minecraft       PC      Mojang   \n",
      "..    ...                                       ...      ...         ...   \n",
      "309   194                  Link's Crossbow Training      Wii    Nintendo   \n",
      "310   195                   New Super Mario Bros. U     WiiU    Nintendo   \n",
      "311   197                                   Destiny      PS4  Activision   \n",
      "312   198                                  Tekken 2       PS       Namco   \n",
      "313   200  Super Mario World: Super Mario Advance 2      GBA    Nintendo   \n",
      "\n",
      "     RAWG Ratings     Genre  Critic_Score    Year  \n",
      "0            4.20    Sports           7.7  2006.0  \n",
      "1            4.27  Platform          10.0  1985.0  \n",
      "2            4.27  Platform           9.0  2006.0  \n",
      "3            4.16    Racing           8.2  2008.0  \n",
      "4            4.33      Misc          10.0  2010.0  \n",
      "..            ...       ...           ...     ...  \n",
      "309          3.67   Shooter           6.9  2007.0  \n",
      "310          3.88  Platform           8.4  2012.0  \n",
      "311          3.78   Shooter           8.3  2014.0  \n",
      "312          4.07  Fighting           9.1  1996.0  \n",
      "313          4.31  Platform           9.4  2002.0  \n",
      "\n",
      "[314 rows x 8 columns]\n"
     ]
    }
   ],
   "source": [
    "#result.drop_duplicates(subset =\"Name\",keep = \"first\", inplace = True)\n",
    "print(result)"
   ]
  },
  {
   "cell_type": "code",
   "execution_count": 126,
   "metadata": {},
   "outputs": [
    {
     "name": "stdout",
     "output_type": "stream",
     "text": [
      "314\n"
     ]
    }
   ],
   "source": [
    "nm=''\n",
    "gen = {} # dictionary to store the values of different Genres\n",
    "plat = {} # dictionary to store the values of Platform \n",
    "year = {}  # dictionary to store the va;ues of year of release\n",
    "print(len(result))\n",
    "for i in range(0,314):\n",
    "    gen.setdefault(result[\"Name\"][i], {})[result[\"Genre\"][i]] = ''\n",
    "    #To eliminate the duplication of key-value pairs\n",
    "    plat.setdefault(result[\"Name\"][i], {})[result[\"Platform\"][i]] = ''    "
   ]
  },
  {
   "cell_type": "code",
   "execution_count": 136,
   "metadata": {},
   "outputs": [
    {
     "data": {
      "text/plain": [
       "145"
      ]
     },
     "execution_count": 136,
     "metadata": {},
     "output_type": "execute_result"
    }
   ],
   "source": [
    "title = list(gen.keys()) #returns a list of Keys(Names of the game)\n",
    "len(title)"
   ]
  },
  {
   "cell_type": "code",
   "execution_count": 137,
   "metadata": {},
   "outputs": [
    {
     "data": {
      "text/plain": [
       "145"
      ]
     },
     "execution_count": 137,
     "metadata": {},
     "output_type": "execute_result"
    }
   ],
   "source": [
    "gek = list(gen.values())\n",
    "genr = []\n",
    "for k in gek:\n",
    "    genr.append(list(k.keys()))\n",
    "len(genr)"
   ]
  },
  {
   "cell_type": "code",
   "execution_count": null,
   "metadata": {},
   "outputs": [],
   "source": []
  }
 ],
 "metadata": {
  "kernelspec": {
   "display_name": "Python 3",
   "language": "python",
   "name": "python3"
  },
  "language_info": {
   "codemirror_mode": {
    "name": "ipython",
    "version": 3
   },
   "file_extension": ".py",
   "mimetype": "text/x-python",
   "name": "python",
   "nbconvert_exporter": "python",
   "pygments_lexer": "ipython3",
   "version": "3.7.4"
  }
 },
 "nbformat": 4,
 "nbformat_minor": 4
}
